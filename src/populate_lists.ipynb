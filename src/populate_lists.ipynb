{
 "cells": [
  {
   "cell_type": "code",
   "execution_count": 1,
   "metadata": {
    "collapsed": true
   },
   "outputs": [],
   "source": [
    "from TwitterAPI import TwitterAPI\n",
    "from tqdm import tqdm\n",
    "import pandas as pd\n",
    "import os"
   ]
  },
  {
   "cell_type": "code",
   "execution_count": 10,
   "metadata": {
    "collapsed": false
   },
   "outputs": [],
   "source": [
    "keys = dict(consumer_key=os.environ['TWITTER_KEY'],\n",
    "            consumer_secret=os.environ['TWITTER_SECRET'],\n",
    "            access_token_key=os.environ['TWITTER_ACCESS_TOKEN_KEY'],\n",
    "            access_token_secret=os.environ['TWITTER_ACCESS_TOKEN_SECRET'])\n",
    "api = TwitterAPI(**keys)"
   ]
  },
  {
   "cell_type": "code",
   "execution_count": 28,
   "metadata": {
    "collapsed": true
   },
   "outputs": [],
   "source": [
    "ids = pd.read_csv('../data/list_ids.csv', index_col=0)\n",
    "info_with_twitter = pd.read_csv('../data/congressperson_all_info.csv',\n",
    "                                index_col=0)\n",
    "info_with_twitter['state'] = info_with_twitter['state'].str.lower()"
   ]
  },
  {
   "cell_type": "markdown",
   "metadata": {},
   "source": [
    "# Populate lists with users\n",
    "We'll split up the congresspeople list by state and populate each list with it"
   ]
  },
  {
   "cell_type": "code",
   "execution_count": 32,
   "metadata": {
    "collapsed": false
   },
   "outputs": [
    {
     "name": "stderr",
     "output_type": "stream",
     "text": [
      "100%|██████████| 50/50 [00:20<00:00,  2.93it/s]\n"
     ]
    }
   ],
   "source": [
    "# Now populate the lists with users\n",
    "for state, i_id, i_url in tqdm(ids[['State', 'ID', 'URL']].values):\n",
    "    # Pull values for this state\n",
    "    values = info_with_twitter.query('state == @state')\n",
    "\n",
    "    # Now post the data\n",
    "    screen_names = ','.join(values.dropna(subset=['twitter'])['twitter'].values)\n",
    "    resp = api.request('lists/members/create_all',\n",
    "                       params={'list_id': i_id, 'screen_name': screen_names})\n",
    "    if resp.status_code != 200:\n",
    "        print('Failed to populate list')\n",
    "        break"
   ]
  },
  {
   "cell_type": "markdown",
   "metadata": {},
   "source": [
    "# Helper code"
   ]
  },
  {
   "cell_type": "code",
   "execution_count": 19,
   "metadata": {
    "collapsed": false
   },
   "outputs": [
    {
     "name": "stderr",
     "output_type": "stream",
     "text": [
      "50it [00:38,  1.74it/s]\n"
     ]
    }
   ],
   "source": [
    "# Remove all users from lists\n",
    "n_removed = []\n",
    "for _, (state, i_link, i_uri, i_id) in tqdm(ids.iterrows()):\n",
    "    resp = api.request('lists/members', params={'list_id': i_id, 'count': 1000})\n",
    "    user_ids = [user['id_str'] for user in resp.json()['users']]\n",
    "    user_string = ','.join(user_ids)\n",
    "    resp = api.request('lists/members/destroy_all',\n",
    "                       params={'list_id': i_id, 'user_id': user_ids})\n",
    "    n_removed.append(len(user_ids))"
   ]
  },
  {
   "cell_type": "code",
   "execution_count": null,
   "metadata": {
    "collapsed": true
   },
   "outputs": [],
   "source": [
    "# Add a single member to a list\n",
    "resp = api.request('lists/members/create',\n",
    "                   params={'list_id': i_id, 'screen_name': 'cspan'})\n",
    "\n",
    "resp.json()"
   ]
  }
 ],
 "metadata": {
  "kernelspec": {
   "display_name": "Python 3",
   "language": "python",
   "name": "python3"
  },
  "language_info": {
   "codemirror_mode": {
    "name": "ipython",
    "version": 3
   },
   "file_extension": ".py",
   "mimetype": "text/x-python",
   "name": "python",
   "nbconvert_exporter": "python",
   "pygments_lexer": "ipython3",
   "version": "3.5.2"
  }
 },
 "nbformat": 4,
 "nbformat_minor": 2
}
