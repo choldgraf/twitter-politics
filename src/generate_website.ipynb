{
 "cells": [
  {
   "cell_type": "code",
   "execution_count": 21,
   "metadata": {
    "collapsed": true
   },
   "outputs": [],
   "source": [
    "from tabulate import tabulate\n",
    "from collections import OrderedDict\n",
    "import pandas as pd\n",
    "import os\n",
    "\n",
    "if not os.path.exists('../content/pages'):\n",
    "    os.makedirs('../content/pages/')\n",
    "list_ids = pd.read_csv('../data/list_ids.csv', index_col=0)\n",
    "info = pd.read_csv('../data/congressperson_all_info.csv', index_col=0)"
   ]
  },
  {
   "cell_type": "code",
   "execution_count": 22,
   "metadata": {
    "collapsed": true
   },
   "outputs": [],
   "source": [
    "# Helper function for formatting\n",
    "def capitalize_first_letters(string):\n",
    "    if not isinstance(string, str):\n",
    "        return string\n",
    "    words = [ii.capitalize() for ii in string.split(' ')]\n",
    "    return ' '.join(words)"
   ]
  },
  {
   "cell_type": "code",
   "execution_count": 23,
   "metadata": {
    "collapsed": false
   },
   "outputs": [],
   "source": [
    "capitalize_columns = ['State']\n",
    "for col in capitalize_columns:\n",
    "    list_ids[col] = list_ids[col].map(capitalize_first_letters)"
   ]
  },
  {
   "cell_type": "markdown",
   "metadata": {},
   "source": [
    "# Create lists page"
   ]
  },
  {
   "cell_type": "code",
   "execution_count": 27,
   "metadata": {
    "collapsed": true
   },
   "outputs": [],
   "source": [
    "# Prepare data\n",
    "meta = OrderedDict(\n",
    "    Title='Twitter Lists',\n",
    "    Date='2017-01-29 10:20',\n",
    "    Modified='2017-01-29 10:20',\n",
    "    Tags='politics, accountability',\n",
    "    Category='',\n",
    "    Slug='twitter-lists',\n",
    "    Authors='Chris Holdgraf',\n",
    "    Summary=('A collection of twitter lists of politician accounts,'\n",
    "                     'broken down by state'))\n",
    "\n",
    "header = '\\n'.join(['{}: {}'.format(key, val) for key, val in meta.items()])\n",
    "\n",
    "s = 'Find the data and code [here](https://github.com/choldgraf/twitter-politics)\\n\\n'\n",
    "s += tabulate(list_ids, headers=list_ids.columns, tablefmt='pipe', showindex='never')\n",
    "with open('../content/pages/lists.md', 'w') as f:\n",
    "    f.writelines(header + '\\n\\n' + s)"
   ]
  },
  {
   "cell_type": "markdown",
   "metadata": {},
   "source": [
    "# Create full handles page"
   ]
  },
  {
   "cell_type": "code",
   "execution_count": 28,
   "metadata": {
    "collapsed": false
   },
   "outputs": [
    {
     "name": "stderr",
     "output_type": "stream",
     "text": [
      "/Users/choldgraf/anaconda/lib/python3.5/site-packages/pandas/core/indexing.py:477: SettingWithCopyWarning: \n",
      "A value is trying to be set on a copy of a slice from a DataFrame.\n",
      "Try using .loc[row_indexer,col_indexer] = value instead\n",
      "\n",
      "See the caveats in the documentation: http://pandas.pydata.org/pandas-docs/stable/indexing.html#indexing-view-versus-copy\n",
      "  self.obj[item] = s\n",
      "/Users/choldgraf/anaconda/lib/python3.5/site-packages/ipykernel/__main__.py:20: SettingWithCopyWarning: \n",
      "A value is trying to be set on a copy of a slice from a DataFrame.\n",
      "Try using .loc[row_indexer,col_indexer] = value instead\n",
      "\n",
      "See the caveats in the documentation: http://pandas.pydata.org/pandas-docs/stable/indexing.html#indexing-view-versus-copy\n"
     ]
    }
   ],
   "source": [
    "# Prepare data\n",
    "use_columns = OrderedDict()\n",
    "insert_values = [('name', 'Name',), ('state', 'State'), ('body', 'Body',),\n",
    "                 ('party', 'Party'), ('yrs', 'Years Served'),\n",
    "                 ('district', 'District'), ('handle', 'Handle')]\n",
    "for key, val in insert_values:\n",
    "    use_columns[key] = val\n",
    "    \n",
    "# Capitalize letters\n",
    "capitalize_columns = ['name', 'state']\n",
    "for col in capitalize_columns:\n",
    "    info[col] = info[col].map(capitalize_first_letters)\n",
    "\n",
    "# Subset columns and print    \n",
    "print_df = info[list(use_columns.keys())]\n",
    "print_df.columns = use_columns.values()\n",
    "mask_missing = pd.isnull(print_df['Handle'])\n",
    "print_df.loc[mask_missing, 'Handle'] = \"Missing\"\n",
    "print_df['Link'] = print_df['Handle'].map(\n",
    "    lambda a: '<a href=\"http://twitter.com/{}\">Link</a>'.format(a))\n",
    "print_df.loc[mask_missing, 'Handle'] = 'Missing'\n",
    "print_df.loc[pd.isnull(print_df['District']), 'District'] = 'None'\n",
    "print_df = print_df.sort_values(['State', 'Body', 'Party', 'Years Served'], ascending=False)"
   ]
  },
  {
   "cell_type": "code",
   "execution_count": 29,
   "metadata": {
    "collapsed": true
   },
   "outputs": [],
   "source": [
    "# Generate the handles page\n",
    "meta = OrderedDict(\n",
    "    Title='Twitter Handles',\n",
    "    Date='2017-01-29 10:20',\n",
    "    Modified='2017-01-29 10:20',\n",
    "    Tags='politics, accountability',\n",
    "    Category='',\n",
    "    Slug='twitter-handles',\n",
    "    Authors='Chris Holdgraf',\n",
    "    Summary=('A collection of twitter handles of politician accounts'))\n",
    "header = '\\n'.join(['{}: {}'.format(key, val) for key, val in meta.items()])\n",
    "\n",
    "s = 'Find the data and code [here](https://github.com/choldgraf/twitter-politics)'\n",
    "for state, values in print_df.groupby('State'):\n",
    "    s += '\\n\\n##{}\\n'.format(state)\n",
    "    values = values.sort_values('Body')\n",
    "    s += tabulate(values,\n",
    "                  headers=print_df.columns,\n",
    "                  tablefmt='pipe', showindex='never')\n",
    "with open('../content/pages/handles.md', 'w') as f:\n",
    "    f.writelines(header + '\\n\\n' + s)"
   ]
  },
  {
   "cell_type": "code",
   "execution_count": null,
   "metadata": {
    "collapsed": true
   },
   "outputs": [],
   "source": []
  }
 ],
 "metadata": {
  "kernelspec": {
   "display_name": "Python 3",
   "language": "python",
   "name": "python3"
  },
  "language_info": {
   "codemirror_mode": {
    "name": "ipython",
    "version": 3
   },
   "file_extension": ".py",
   "mimetype": "text/x-python",
   "name": "python",
   "nbconvert_exporter": "python",
   "pygments_lexer": "ipython3",
   "version": "3.5.2"
  }
 },
 "nbformat": 4,
 "nbformat_minor": 2
}
