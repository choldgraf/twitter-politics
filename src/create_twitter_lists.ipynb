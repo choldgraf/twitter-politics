{
 "cells": [
  {
   "cell_type": "code",
   "execution_count": 1,
   "metadata": {
    "collapsed": true
   },
   "outputs": [],
   "source": [
    "from TwitterAPI import TwitterAPI\n",
    "import pandas as pd\n",
    "from tqdm import tqdm\n",
    "import os"
   ]
  },
  {
   "cell_type": "code",
   "execution_count": 2,
   "metadata": {
    "collapsed": true
   },
   "outputs": [],
   "source": [
    "keys = dict(consumer_key=os.environ['TWITTER_KEY'],\n",
    "            consumer_secret=os.environ['TWITTER_SECRET'],\n",
    "            access_token_key=os.environ['TWITTER_ACCESS_TOKEN_KEY'],\n",
    "            access_token_secret=os.environ['TWITTER_ACCESS_TOKEN_SECRET'])\n",
    "api = TwitterAPI(**keys)"
   ]
  },
  {
   "cell_type": "code",
   "execution_count": 6,
   "metadata": {
    "collapsed": false
   },
   "outputs": [],
   "source": [
    "# Load data\n",
    "info_with_twitter = pd.read_csv('../data/congressperson_all_info.csv',\n",
    "                                index_col=0)\n",
    "\n",
    "# Initialize params\n",
    "slug = \"congress\"\n",
    "handle = \"choldgraf\""
   ]
  },
  {
   "cell_type": "code",
   "execution_count": 7,
   "metadata": {
    "collapsed": false
   },
   "outputs": [
    {
     "name": "stderr",
     "output_type": "stream",
     "text": [
      "\r",
      "  0%|          | 0/50 [00:00<?, ?it/s]"
     ]
    },
    {
     "name": "stdout",
     "output_type": "stream",
     "text": [
      "Destroying: 50 lists\n"
     ]
    },
    {
     "name": "stderr",
     "output_type": "stream",
     "text": [
      "100%|██████████| 50/50 [00:15<00:00,  1.47it/s]\n"
     ]
    }
   ],
   "source": [
    "# Find all of my lists\n",
    "resp = api.request('lists/ownerships', params=dict(screen_name=handle,\n",
    "                                                   count=1000))\n",
    "lists_congresspeople = [ii for ii in resp.json()['lists']\n",
    "                        if slug + '-' in ii['name']]\n",
    "print('Destroying: {} lists'.format(len(lists_congresspeople)))\n",
    "\n",
    "# Delete the ones created by this script\n",
    "for i_list in tqdm(lists_congresspeople):\n",
    "    i_id = i_list['id']\n",
    "    resp = api.request('lists/destroy', {'list_id': i_id})"
   ]
  },
  {
   "cell_type": "code",
   "execution_count": 8,
   "metadata": {
    "collapsed": false
   },
   "outputs": [
    {
     "name": "stderr",
     "output_type": "stream",
     "text": [
      "100%|██████████| 50/50 [00:14<00:00,  4.26it/s]\n"
     ]
    }
   ],
   "source": [
    "# Create a list for each state\n",
    "ids = []\n",
    "for state, values in tqdm(list(info_with_twitter.groupby('state'))):\n",
    "    if state is None:\n",
    "        continue\n",
    "\n",
    "    # Create the list\n",
    "    value = '{}-{}'.format(slug, state.replace(' ', '_'))\n",
    "    desc = (\"A collection of twitter accounts for congresspeople \"\n",
    "            \"in the state of {}\".format(state))\n",
    "    resp = api.request('lists/create', params={'name': value, 'description':desc})\n",
    "    this_id = resp.json()['id']\n",
    "    this_url = resp.json()['uri']\n",
    "    if resp.status_code != 200:\n",
    "        print('Failed to create list')\n",
    "        break\n",
    "    ids.append((state, this_id, this_url))\n",
    "\n",
    "columns = ['State', 'ID', 'URL']\n",
    "df_ids = pd.DataFrame(ids, columns=columns)\n",
    "df_ids['URL'] = df_ids['URL'].map(lambda a: 'twitter.com' + a)\n",
    "df_ids['Link'] = df_ids['URL'].map(lambda a: '<a href=\"http://{}\">link</a>'.format(a))\n",
    "df_ids = df_ids[['State', 'Link', 'URL', 'ID']]\n",
    "df_ids.to_csv('../data/list_ids.csv')"
   ]
  },
  {
   "cell_type": "code",
   "execution_count": null,
   "metadata": {
    "collapsed": true
   },
   "outputs": [],
   "source": []
  }
 ],
 "metadata": {
  "kernelspec": {
   "display_name": "Python 3",
   "language": "python",
   "name": "python3"
  },
  "language_info": {
   "codemirror_mode": {
    "name": "ipython",
    "version": 3
   },
   "file_extension": ".py",
   "mimetype": "text/x-python",
   "name": "python",
   "nbconvert_exporter": "python",
   "pygments_lexer": "ipython3",
   "version": "3.5.2"
  }
 },
 "nbformat": 4,
 "nbformat_minor": 2
}
