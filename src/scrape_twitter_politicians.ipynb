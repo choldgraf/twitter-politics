{
 "cells": [
  {
   "cell_type": "code",
   "execution_count": 1,
   "metadata": {
    "collapsed": false
   },
   "outputs": [],
   "source": [
    "import pandas as pd\n",
    "import yaml\n",
    "\n",
    "# Import a list of states\n",
    "from states import states as all_states"
   ]
  },
  {
   "cell_type": "markdown",
   "metadata": {},
   "source": [
    "# Using github\n",
    "We'll use the data provided by the excellent database at this repo:\n",
    "\n",
    "https://github.com/unitedstates/congress-legislators"
   ]
  },
  {
   "cell_type": "code",
   "execution_count": 2,
   "metadata": {
    "collapsed": false
   },
   "outputs": [],
   "source": [
    "# Load social data\n",
    "with open('../../../data/congress-legislators/legislators-social-media.yaml', 'r') as f:\n",
    "    social = yaml.load_all(f)\n",
    "    social = list(social)[0]"
   ]
  },
  {
   "cell_type": "code",
   "execution_count": 3,
   "metadata": {
    "collapsed": true
   },
   "outputs": [],
   "source": [
    "# Load person data\n",
    "with open('../../../data/congress-legislators/legislators-current.yaml', 'r') as f:\n",
    "    people = yaml.load_all(f)\n",
    "    people = list(people)[0]"
   ]
  },
  {
   "cell_type": "code",
   "execution_count": 4,
   "metadata": {
    "collapsed": false
   },
   "outputs": [],
   "source": [
    "df_social = []\n",
    "for person in social:\n",
    "    twitter = person['social'].get('twitter', None)\n",
    "    facebook = person['social'].get('facebook', None)\n",
    "    bioguide = person['id'].get('bioguide', None)\n",
    "    govtrack = person['id'].get('govtrack', None)\n",
    "    df_social.append({'bioguide': bioguide, 'govtrack': govtrack,\n",
    "                      'twitter': twitter, 'facebook': facebook})\n",
    "df_social = pd.DataFrame(df_social)"
   ]
  },
  {
   "cell_type": "code",
   "execution_count": 5,
   "metadata": {
    "collapsed": false
   },
   "outputs": [],
   "source": [
    "df_people = []\n",
    "for person in people:\n",
    "    bioguide = person['id'].get('bioguide', None)\n",
    "    govtrack = person['id'].get('govtrack', None)\n",
    "    name = person['name']['official_full']\n",
    "    party = person['terms'][-1]['party']\n",
    "    state = person['terms'][-1]['state']\n",
    "    chamber = person['terms'][-1]['type']\n",
    "    df_people.append({'bioguide': bioguide, 'govtrack': govtrack, 'name': name,\n",
    "                      'party': party, 'state': state, 'chamber': chamber})\n",
    "df_people = pd.DataFrame(df_people)"
   ]
  },
  {
   "cell_type": "code",
   "execution_count": 83,
   "metadata": {
    "collapsed": false
   },
   "outputs": [],
   "source": [
    "for df in [df_social, df_people]:\n",
    "    for ix, row in df.iterrows():\n",
    "        if row['govtrack'] is not None:\n",
    "            this_id = row['govtrack']\n",
    "        elif row['bioguide'] is not None:\n",
    "            this_id = row['bioguide']\n",
    "        else:\n",
    "            raise ValueError('Need one of the two...')\n",
    "        df.loc[ix, 'id'] = this_id\n",
    "    df.drop(['govtrack', 'bioguide'], axis=1, inplace=True)"
   ]
  },
  {
   "cell_type": "code",
   "execution_count": 101,
   "metadata": {
    "collapsed": false
   },
   "outputs": [],
   "source": [
    "# Save to disk\n",
    "df_all = pd.merge(df_social, df_people, how='inner', on='id')\n",
    "df_all['state'] = df_all['state'].map(lambda a: all_states[a])\n",
    "df_all.to_csv('../data/congressperson_all_info.csv')"
   ]
  }
 ],
 "metadata": {
  "kernelspec": {
   "display_name": "Python 3",
   "language": "python",
   "name": "python3"
  },
  "language_info": {
   "codemirror_mode": {
    "name": "ipython",
    "version": 3
   },
   "file_extension": ".py",
   "mimetype": "text/x-python",
   "name": "python",
   "nbconvert_exporter": "python",
   "pygments_lexer": "ipython3",
   "version": "3.5.2"
  }
 },
 "nbformat": 4,
 "nbformat_minor": 2
}
